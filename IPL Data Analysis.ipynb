{
 "cells": [
  {
   "cell_type": "markdown",
   "metadata": {},
   "source": [
    "## EDA on IPL Dataset"
   ]
  },
  {
   "cell_type": "markdown",
   "metadata": {},
   "source": [
    "#### Importing Libraries"
   ]
  },
  {
   "cell_type": "code",
   "execution_count": 1,
   "metadata": {},
   "outputs": [],
   "source": [
    "import pandas as pd\n",
    "import numpy as np\n",
    "import matplotlib.pyplot as plt\n",
    "import seaborn as sns"
   ]
  },
  {
   "cell_type": "markdown",
   "metadata": {},
   "source": [
    "#### Importing Dataset"
   ]
  },
  {
   "cell_type": "code",
   "execution_count": 2,
   "metadata": {},
   "outputs": [],
   "source": [
    "df = pd.read_csv('../IPL Data Analysis/matches.csv')"
   ]
  },
  {
   "cell_type": "code",
   "execution_count": 3,
   "metadata": {},
   "outputs": [
    {
     "data": {
      "text/html": [
       "<div>\n",
       "<style scoped>\n",
       "    .dataframe tbody tr th:only-of-type {\n",
       "        vertical-align: middle;\n",
       "    }\n",
       "\n",
       "    .dataframe tbody tr th {\n",
       "        vertical-align: top;\n",
       "    }\n",
       "\n",
       "    .dataframe thead th {\n",
       "        text-align: right;\n",
       "    }\n",
       "</style>\n",
       "<table border=\"1\" class=\"dataframe\">\n",
       "  <thead>\n",
       "    <tr style=\"text-align: right;\">\n",
       "      <th></th>\n",
       "      <th>id</th>\n",
       "      <th>season</th>\n",
       "      <th>city</th>\n",
       "      <th>date</th>\n",
       "      <th>team1</th>\n",
       "      <th>team2</th>\n",
       "      <th>toss_winner</th>\n",
       "      <th>toss_decision</th>\n",
       "      <th>result</th>\n",
       "      <th>dl_applied</th>\n",
       "      <th>winner</th>\n",
       "      <th>win_by_runs</th>\n",
       "      <th>win_by_wickets</th>\n",
       "      <th>player_of_match</th>\n",
       "      <th>venue</th>\n",
       "      <th>umpire1</th>\n",
       "      <th>umpire2</th>\n",
       "      <th>umpire3</th>\n",
       "    </tr>\n",
       "  </thead>\n",
       "  <tbody>\n",
       "    <tr>\n",
       "      <th>0</th>\n",
       "      <td>1</td>\n",
       "      <td>2017</td>\n",
       "      <td>Hyderabad</td>\n",
       "      <td>2017-04-05</td>\n",
       "      <td>Sunrisers Hyderabad</td>\n",
       "      <td>Royal Challengers Bangalore</td>\n",
       "      <td>Royal Challengers Bangalore</td>\n",
       "      <td>field</td>\n",
       "      <td>normal</td>\n",
       "      <td>0</td>\n",
       "      <td>Sunrisers Hyderabad</td>\n",
       "      <td>35</td>\n",
       "      <td>0</td>\n",
       "      <td>Yuvraj Singh</td>\n",
       "      <td>Rajiv Gandhi International Stadium, Uppal</td>\n",
       "      <td>AY Dandekar</td>\n",
       "      <td>NJ Llong</td>\n",
       "      <td>NaN</td>\n",
       "    </tr>\n",
       "    <tr>\n",
       "      <th>1</th>\n",
       "      <td>2</td>\n",
       "      <td>2017</td>\n",
       "      <td>Pune</td>\n",
       "      <td>2017-04-06</td>\n",
       "      <td>Mumbai Indians</td>\n",
       "      <td>Rising Pune Supergiant</td>\n",
       "      <td>Rising Pune Supergiant</td>\n",
       "      <td>field</td>\n",
       "      <td>normal</td>\n",
       "      <td>0</td>\n",
       "      <td>Rising Pune Supergiant</td>\n",
       "      <td>0</td>\n",
       "      <td>7</td>\n",
       "      <td>SPD Smith</td>\n",
       "      <td>Maharashtra Cricket Association Stadium</td>\n",
       "      <td>A Nand Kishore</td>\n",
       "      <td>S Ravi</td>\n",
       "      <td>NaN</td>\n",
       "    </tr>\n",
       "    <tr>\n",
       "      <th>2</th>\n",
       "      <td>3</td>\n",
       "      <td>2017</td>\n",
       "      <td>Rajkot</td>\n",
       "      <td>2017-04-07</td>\n",
       "      <td>Gujarat Lions</td>\n",
       "      <td>Kolkata Knight Riders</td>\n",
       "      <td>Kolkata Knight Riders</td>\n",
       "      <td>field</td>\n",
       "      <td>normal</td>\n",
       "      <td>0</td>\n",
       "      <td>Kolkata Knight Riders</td>\n",
       "      <td>0</td>\n",
       "      <td>10</td>\n",
       "      <td>CA Lynn</td>\n",
       "      <td>Saurashtra Cricket Association Stadium</td>\n",
       "      <td>Nitin Menon</td>\n",
       "      <td>CK Nandan</td>\n",
       "      <td>NaN</td>\n",
       "    </tr>\n",
       "    <tr>\n",
       "      <th>3</th>\n",
       "      <td>4</td>\n",
       "      <td>2017</td>\n",
       "      <td>Indore</td>\n",
       "      <td>2017-04-08</td>\n",
       "      <td>Rising Pune Supergiant</td>\n",
       "      <td>Kings XI Punjab</td>\n",
       "      <td>Kings XI Punjab</td>\n",
       "      <td>field</td>\n",
       "      <td>normal</td>\n",
       "      <td>0</td>\n",
       "      <td>Kings XI Punjab</td>\n",
       "      <td>0</td>\n",
       "      <td>6</td>\n",
       "      <td>GJ Maxwell</td>\n",
       "      <td>Holkar Cricket Stadium</td>\n",
       "      <td>AK Chaudhary</td>\n",
       "      <td>C Shamshuddin</td>\n",
       "      <td>NaN</td>\n",
       "    </tr>\n",
       "    <tr>\n",
       "      <th>4</th>\n",
       "      <td>5</td>\n",
       "      <td>2017</td>\n",
       "      <td>Bangalore</td>\n",
       "      <td>2017-04-08</td>\n",
       "      <td>Royal Challengers Bangalore</td>\n",
       "      <td>Delhi Daredevils</td>\n",
       "      <td>Royal Challengers Bangalore</td>\n",
       "      <td>bat</td>\n",
       "      <td>normal</td>\n",
       "      <td>0</td>\n",
       "      <td>Royal Challengers Bangalore</td>\n",
       "      <td>15</td>\n",
       "      <td>0</td>\n",
       "      <td>KM Jadhav</td>\n",
       "      <td>M Chinnaswamy Stadium</td>\n",
       "      <td>NaN</td>\n",
       "      <td>NaN</td>\n",
       "      <td>NaN</td>\n",
       "    </tr>\n",
       "  </tbody>\n",
       "</table>\n",
       "</div>"
      ],
      "text/plain": [
       "   id  season       city        date                        team1  \\\n",
       "0   1    2017  Hyderabad  2017-04-05          Sunrisers Hyderabad   \n",
       "1   2    2017       Pune  2017-04-06               Mumbai Indians   \n",
       "2   3    2017     Rajkot  2017-04-07                Gujarat Lions   \n",
       "3   4    2017     Indore  2017-04-08       Rising Pune Supergiant   \n",
       "4   5    2017  Bangalore  2017-04-08  Royal Challengers Bangalore   \n",
       "\n",
       "                         team2                  toss_winner toss_decision  \\\n",
       "0  Royal Challengers Bangalore  Royal Challengers Bangalore         field   \n",
       "1       Rising Pune Supergiant       Rising Pune Supergiant         field   \n",
       "2        Kolkata Knight Riders        Kolkata Knight Riders         field   \n",
       "3              Kings XI Punjab              Kings XI Punjab         field   \n",
       "4             Delhi Daredevils  Royal Challengers Bangalore           bat   \n",
       "\n",
       "   result  dl_applied                       winner  win_by_runs  \\\n",
       "0  normal           0          Sunrisers Hyderabad           35   \n",
       "1  normal           0       Rising Pune Supergiant            0   \n",
       "2  normal           0        Kolkata Knight Riders            0   \n",
       "3  normal           0              Kings XI Punjab            0   \n",
       "4  normal           0  Royal Challengers Bangalore           15   \n",
       "\n",
       "   win_by_wickets player_of_match                                      venue  \\\n",
       "0               0    Yuvraj Singh  Rajiv Gandhi International Stadium, Uppal   \n",
       "1               7       SPD Smith    Maharashtra Cricket Association Stadium   \n",
       "2              10         CA Lynn     Saurashtra Cricket Association Stadium   \n",
       "3               6      GJ Maxwell                     Holkar Cricket Stadium   \n",
       "4               0       KM Jadhav                      M Chinnaswamy Stadium   \n",
       "\n",
       "          umpire1        umpire2 umpire3  \n",
       "0     AY Dandekar       NJ Llong     NaN  \n",
       "1  A Nand Kishore         S Ravi     NaN  \n",
       "2     Nitin Menon      CK Nandan     NaN  \n",
       "3    AK Chaudhary  C Shamshuddin     NaN  \n",
       "4             NaN            NaN     NaN  "
      ]
     },
     "execution_count": 3,
     "metadata": {},
     "output_type": "execute_result"
    }
   ],
   "source": [
    "df.head()"
   ]
  },
  {
   "cell_type": "code",
   "execution_count": 4,
   "metadata": {},
   "outputs": [
    {
     "data": {
      "text/plain": [
       "(756, 18)"
      ]
     },
     "execution_count": 4,
     "metadata": {},
     "output_type": "execute_result"
    }
   ],
   "source": [
    "df.shape"
   ]
  },
  {
   "cell_type": "code",
   "execution_count": 5,
   "metadata": {},
   "outputs": [
    {
     "name": "stdout",
     "output_type": "stream",
     "text": [
      "<class 'pandas.core.frame.DataFrame'>\n",
      "RangeIndex: 756 entries, 0 to 755\n",
      "Data columns (total 18 columns):\n",
      " #   Column           Non-Null Count  Dtype \n",
      "---  ------           --------------  ----- \n",
      " 0   id               756 non-null    int64 \n",
      " 1   season           756 non-null    int64 \n",
      " 2   city             749 non-null    object\n",
      " 3   date             756 non-null    object\n",
      " 4   team1            756 non-null    object\n",
      " 5   team2            756 non-null    object\n",
      " 6   toss_winner      756 non-null    object\n",
      " 7   toss_decision    756 non-null    object\n",
      " 8   result           756 non-null    object\n",
      " 9   dl_applied       756 non-null    int64 \n",
      " 10  winner           752 non-null    object\n",
      " 11  win_by_runs      756 non-null    int64 \n",
      " 12  win_by_wickets   756 non-null    int64 \n",
      " 13  player_of_match  752 non-null    object\n",
      " 14  venue            756 non-null    object\n",
      " 15  umpire1          754 non-null    object\n",
      " 16  umpire2          754 non-null    object\n",
      " 17  umpire3          119 non-null    object\n",
      "dtypes: int64(5), object(13)\n",
      "memory usage: 106.4+ KB\n"
     ]
    }
   ],
   "source": [
    "df.info()"
   ]
  },
  {
   "cell_type": "code",
   "execution_count": 6,
   "metadata": {},
   "outputs": [
    {
     "data": {
      "text/plain": [
       "id                   0\n",
       "season               0\n",
       "city                 7\n",
       "date                 0\n",
       "team1                0\n",
       "team2                0\n",
       "toss_winner          0\n",
       "toss_decision        0\n",
       "result               0\n",
       "dl_applied           0\n",
       "winner               4\n",
       "win_by_runs          0\n",
       "win_by_wickets       0\n",
       "player_of_match      4\n",
       "venue                0\n",
       "umpire1              2\n",
       "umpire2              2\n",
       "umpire3            637\n",
       "dtype: int64"
      ]
     },
     "execution_count": 6,
     "metadata": {},
     "output_type": "execute_result"
    }
   ],
   "source": [
    "df.isna().sum()"
   ]
  },
  {
   "cell_type": "code",
   "execution_count": 7,
   "metadata": {},
   "outputs": [
    {
     "data": {
      "text/html": [
       "<div>\n",
       "<style scoped>\n",
       "    .dataframe tbody tr th:only-of-type {\n",
       "        vertical-align: middle;\n",
       "    }\n",
       "\n",
       "    .dataframe tbody tr th {\n",
       "        vertical-align: top;\n",
       "    }\n",
       "\n",
       "    .dataframe thead th {\n",
       "        text-align: right;\n",
       "    }\n",
       "</style>\n",
       "<table border=\"1\" class=\"dataframe\">\n",
       "  <thead>\n",
       "    <tr style=\"text-align: right;\">\n",
       "      <th></th>\n",
       "      <th>id</th>\n",
       "      <th>season</th>\n",
       "      <th>dl_applied</th>\n",
       "      <th>win_by_runs</th>\n",
       "      <th>win_by_wickets</th>\n",
       "    </tr>\n",
       "  </thead>\n",
       "  <tbody>\n",
       "    <tr>\n",
       "      <th>count</th>\n",
       "      <td>756.000000</td>\n",
       "      <td>756.000000</td>\n",
       "      <td>756.000000</td>\n",
       "      <td>756.000000</td>\n",
       "      <td>756.000000</td>\n",
       "    </tr>\n",
       "    <tr>\n",
       "      <th>mean</th>\n",
       "      <td>1792.178571</td>\n",
       "      <td>2013.444444</td>\n",
       "      <td>0.025132</td>\n",
       "      <td>13.283069</td>\n",
       "      <td>3.350529</td>\n",
       "    </tr>\n",
       "    <tr>\n",
       "      <th>std</th>\n",
       "      <td>3464.478148</td>\n",
       "      <td>3.366895</td>\n",
       "      <td>0.156630</td>\n",
       "      <td>23.471144</td>\n",
       "      <td>3.387963</td>\n",
       "    </tr>\n",
       "    <tr>\n",
       "      <th>min</th>\n",
       "      <td>1.000000</td>\n",
       "      <td>2008.000000</td>\n",
       "      <td>0.000000</td>\n",
       "      <td>0.000000</td>\n",
       "      <td>0.000000</td>\n",
       "    </tr>\n",
       "    <tr>\n",
       "      <th>25%</th>\n",
       "      <td>189.750000</td>\n",
       "      <td>2011.000000</td>\n",
       "      <td>0.000000</td>\n",
       "      <td>0.000000</td>\n",
       "      <td>0.000000</td>\n",
       "    </tr>\n",
       "    <tr>\n",
       "      <th>50%</th>\n",
       "      <td>378.500000</td>\n",
       "      <td>2013.000000</td>\n",
       "      <td>0.000000</td>\n",
       "      <td>0.000000</td>\n",
       "      <td>4.000000</td>\n",
       "    </tr>\n",
       "    <tr>\n",
       "      <th>75%</th>\n",
       "      <td>567.250000</td>\n",
       "      <td>2016.000000</td>\n",
       "      <td>0.000000</td>\n",
       "      <td>19.000000</td>\n",
       "      <td>6.000000</td>\n",
       "    </tr>\n",
       "    <tr>\n",
       "      <th>max</th>\n",
       "      <td>11415.000000</td>\n",
       "      <td>2019.000000</td>\n",
       "      <td>1.000000</td>\n",
       "      <td>146.000000</td>\n",
       "      <td>10.000000</td>\n",
       "    </tr>\n",
       "  </tbody>\n",
       "</table>\n",
       "</div>"
      ],
      "text/plain": [
       "                 id       season  dl_applied  win_by_runs  win_by_wickets\n",
       "count    756.000000   756.000000  756.000000   756.000000      756.000000\n",
       "mean    1792.178571  2013.444444    0.025132    13.283069        3.350529\n",
       "std     3464.478148     3.366895    0.156630    23.471144        3.387963\n",
       "min        1.000000  2008.000000    0.000000     0.000000        0.000000\n",
       "25%      189.750000  2011.000000    0.000000     0.000000        0.000000\n",
       "50%      378.500000  2013.000000    0.000000     0.000000        4.000000\n",
       "75%      567.250000  2016.000000    0.000000    19.000000        6.000000\n",
       "max    11415.000000  2019.000000    1.000000   146.000000       10.000000"
      ]
     },
     "execution_count": 7,
     "metadata": {},
     "output_type": "execute_result"
    }
   ],
   "source": [
    "df.describe()"
   ]
  },
  {
   "cell_type": "code",
   "execution_count": 8,
   "metadata": {},
   "outputs": [
    {
     "data": {
      "text/html": [
       "<div>\n",
       "<style scoped>\n",
       "    .dataframe tbody tr th:only-of-type {\n",
       "        vertical-align: middle;\n",
       "    }\n",
       "\n",
       "    .dataframe tbody tr th {\n",
       "        vertical-align: top;\n",
       "    }\n",
       "\n",
       "    .dataframe thead th {\n",
       "        text-align: right;\n",
       "    }\n",
       "</style>\n",
       "<table border=\"1\" class=\"dataframe\">\n",
       "  <thead>\n",
       "    <tr style=\"text-align: right;\">\n",
       "      <th></th>\n",
       "      <th>id</th>\n",
       "      <th>season</th>\n",
       "      <th>city</th>\n",
       "      <th>date</th>\n",
       "      <th>team1</th>\n",
       "      <th>team2</th>\n",
       "      <th>toss_winner</th>\n",
       "      <th>toss_decision</th>\n",
       "      <th>result</th>\n",
       "      <th>dl_applied</th>\n",
       "      <th>winner</th>\n",
       "      <th>win_by_runs</th>\n",
       "      <th>win_by_wickets</th>\n",
       "      <th>player_of_match</th>\n",
       "      <th>venue</th>\n",
       "      <th>umpire1</th>\n",
       "      <th>umpire2</th>\n",
       "      <th>umpire3</th>\n",
       "    </tr>\n",
       "  </thead>\n",
       "  <tbody>\n",
       "    <tr>\n",
       "      <th>751</th>\n",
       "      <td>11347</td>\n",
       "      <td>2019</td>\n",
       "      <td>Mumbai</td>\n",
       "      <td>05/05/19</td>\n",
       "      <td>Kolkata Knight Riders</td>\n",
       "      <td>Mumbai Indians</td>\n",
       "      <td>Mumbai Indians</td>\n",
       "      <td>field</td>\n",
       "      <td>normal</td>\n",
       "      <td>0</td>\n",
       "      <td>Mumbai Indians</td>\n",
       "      <td>0</td>\n",
       "      <td>9</td>\n",
       "      <td>HH Pandya</td>\n",
       "      <td>Wankhede Stadium</td>\n",
       "      <td>Nanda Kishore</td>\n",
       "      <td>O Nandan</td>\n",
       "      <td>S Ravi</td>\n",
       "    </tr>\n",
       "    <tr>\n",
       "      <th>752</th>\n",
       "      <td>11412</td>\n",
       "      <td>2019</td>\n",
       "      <td>Chennai</td>\n",
       "      <td>07/05/19</td>\n",
       "      <td>Chennai Super Kings</td>\n",
       "      <td>Mumbai Indians</td>\n",
       "      <td>Chennai Super Kings</td>\n",
       "      <td>bat</td>\n",
       "      <td>normal</td>\n",
       "      <td>0</td>\n",
       "      <td>Mumbai Indians</td>\n",
       "      <td>0</td>\n",
       "      <td>6</td>\n",
       "      <td>AS Yadav</td>\n",
       "      <td>M. A. Chidambaram Stadium</td>\n",
       "      <td>Nigel Llong</td>\n",
       "      <td>Nitin Menon</td>\n",
       "      <td>Ian Gould</td>\n",
       "    </tr>\n",
       "    <tr>\n",
       "      <th>753</th>\n",
       "      <td>11413</td>\n",
       "      <td>2019</td>\n",
       "      <td>Visakhapatnam</td>\n",
       "      <td>08/05/19</td>\n",
       "      <td>Sunrisers Hyderabad</td>\n",
       "      <td>Delhi Capitals</td>\n",
       "      <td>Delhi Capitals</td>\n",
       "      <td>field</td>\n",
       "      <td>normal</td>\n",
       "      <td>0</td>\n",
       "      <td>Delhi Capitals</td>\n",
       "      <td>0</td>\n",
       "      <td>2</td>\n",
       "      <td>RR Pant</td>\n",
       "      <td>ACA-VDCA Stadium</td>\n",
       "      <td>NaN</td>\n",
       "      <td>NaN</td>\n",
       "      <td>NaN</td>\n",
       "    </tr>\n",
       "    <tr>\n",
       "      <th>754</th>\n",
       "      <td>11414</td>\n",
       "      <td>2019</td>\n",
       "      <td>Visakhapatnam</td>\n",
       "      <td>10/05/19</td>\n",
       "      <td>Delhi Capitals</td>\n",
       "      <td>Chennai Super Kings</td>\n",
       "      <td>Chennai Super Kings</td>\n",
       "      <td>field</td>\n",
       "      <td>normal</td>\n",
       "      <td>0</td>\n",
       "      <td>Chennai Super Kings</td>\n",
       "      <td>0</td>\n",
       "      <td>6</td>\n",
       "      <td>F du Plessis</td>\n",
       "      <td>ACA-VDCA Stadium</td>\n",
       "      <td>Sundaram Ravi</td>\n",
       "      <td>Bruce Oxenford</td>\n",
       "      <td>Chettithody Shamshuddin</td>\n",
       "    </tr>\n",
       "    <tr>\n",
       "      <th>755</th>\n",
       "      <td>11415</td>\n",
       "      <td>2019</td>\n",
       "      <td>Hyderabad</td>\n",
       "      <td>12/05/19</td>\n",
       "      <td>Mumbai Indians</td>\n",
       "      <td>Chennai Super Kings</td>\n",
       "      <td>Mumbai Indians</td>\n",
       "      <td>bat</td>\n",
       "      <td>normal</td>\n",
       "      <td>0</td>\n",
       "      <td>Mumbai Indians</td>\n",
       "      <td>1</td>\n",
       "      <td>0</td>\n",
       "      <td>JJ Bumrah</td>\n",
       "      <td>Rajiv Gandhi Intl. Cricket Stadium</td>\n",
       "      <td>Nitin Menon</td>\n",
       "      <td>Ian Gould</td>\n",
       "      <td>Nigel Llong</td>\n",
       "    </tr>\n",
       "  </tbody>\n",
       "</table>\n",
       "</div>"
      ],
      "text/plain": [
       "        id  season           city      date                  team1  \\\n",
       "751  11347    2019         Mumbai  05/05/19  Kolkata Knight Riders   \n",
       "752  11412    2019        Chennai  07/05/19    Chennai Super Kings   \n",
       "753  11413    2019  Visakhapatnam  08/05/19    Sunrisers Hyderabad   \n",
       "754  11414    2019  Visakhapatnam  10/05/19         Delhi Capitals   \n",
       "755  11415    2019      Hyderabad  12/05/19         Mumbai Indians   \n",
       "\n",
       "                   team2          toss_winner toss_decision  result  \\\n",
       "751       Mumbai Indians       Mumbai Indians         field  normal   \n",
       "752       Mumbai Indians  Chennai Super Kings           bat  normal   \n",
       "753       Delhi Capitals       Delhi Capitals         field  normal   \n",
       "754  Chennai Super Kings  Chennai Super Kings         field  normal   \n",
       "755  Chennai Super Kings       Mumbai Indians           bat  normal   \n",
       "\n",
       "     dl_applied               winner  win_by_runs  win_by_wickets  \\\n",
       "751           0       Mumbai Indians            0               9   \n",
       "752           0       Mumbai Indians            0               6   \n",
       "753           0       Delhi Capitals            0               2   \n",
       "754           0  Chennai Super Kings            0               6   \n",
       "755           0       Mumbai Indians            1               0   \n",
       "\n",
       "    player_of_match                               venue        umpire1  \\\n",
       "751       HH Pandya                    Wankhede Stadium  Nanda Kishore   \n",
       "752        AS Yadav           M. A. Chidambaram Stadium    Nigel Llong   \n",
       "753         RR Pant                    ACA-VDCA Stadium            NaN   \n",
       "754    F du Plessis                    ACA-VDCA Stadium  Sundaram Ravi   \n",
       "755       JJ Bumrah  Rajiv Gandhi Intl. Cricket Stadium    Nitin Menon   \n",
       "\n",
       "            umpire2                  umpire3  \n",
       "751        O Nandan                   S Ravi  \n",
       "752     Nitin Menon                Ian Gould  \n",
       "753             NaN                      NaN  \n",
       "754  Bruce Oxenford  Chettithody Shamshuddin  \n",
       "755       Ian Gould              Nigel Llong  "
      ]
     },
     "execution_count": 8,
     "metadata": {},
     "output_type": "execute_result"
    }
   ],
   "source": [
    "df.tail()"
   ]
  },
  {
   "cell_type": "code",
   "execution_count": 9,
   "metadata": {},
   "outputs": [
    {
     "data": {
      "text/plain": [
       "array([2017, 2008, 2009, 2010, 2011, 2012, 2013, 2014, 2015, 2016, 2018,\n",
       "       2019], dtype=int64)"
      ]
     },
     "execution_count": 9,
     "metadata": {},
     "output_type": "execute_result"
    }
   ],
   "source": [
    "df['season'].unique()"
   ]
  },
  {
   "cell_type": "markdown",
   "metadata": {},
   "source": [
    "#### Biggest win by runs"
   ]
  },
  {
   "cell_type": "code",
   "execution_count": 10,
   "metadata": {},
   "outputs": [
    {
     "data": {
      "text/plain": [
       "id                               44\n",
       "season                         2017\n",
       "city                          Delhi\n",
       "date                     2017-05-06\n",
       "team1                Mumbai Indians\n",
       "team2              Delhi Daredevils\n",
       "toss_winner        Delhi Daredevils\n",
       "toss_decision                 field\n",
       "result                       normal\n",
       "dl_applied                        0\n",
       "winner               Mumbai Indians\n",
       "win_by_runs                     146\n",
       "win_by_wickets                    0\n",
       "player_of_match         LMP Simmons\n",
       "venue              Feroz Shah Kotla\n",
       "umpire1                 Nitin Menon\n",
       "umpire2                   CK Nandan\n",
       "umpire3                         NaN\n",
       "Name: 43, dtype: object"
      ]
     },
     "execution_count": 10,
     "metadata": {},
     "output_type": "execute_result"
    }
   ],
   "source": [
    "df.iloc[df['win_by_runs'].idxmax()]"
   ]
  },
  {
   "cell_type": "markdown",
   "metadata": {},
   "source": [
    "#### Biggest win by wickets"
   ]
  },
  {
   "cell_type": "code",
   "execution_count": 11,
   "metadata": {},
   "outputs": [
    {
     "data": {
      "text/plain": [
       "id                                                      3\n",
       "season                                               2017\n",
       "city                                               Rajkot\n",
       "date                                           2017-04-07\n",
       "team1                                       Gujarat Lions\n",
       "team2                               Kolkata Knight Riders\n",
       "toss_winner                         Kolkata Knight Riders\n",
       "toss_decision                                       field\n",
       "result                                             normal\n",
       "dl_applied                                              0\n",
       "winner                              Kolkata Knight Riders\n",
       "win_by_runs                                             0\n",
       "win_by_wickets                                         10\n",
       "player_of_match                                   CA Lynn\n",
       "venue              Saurashtra Cricket Association Stadium\n",
       "umpire1                                       Nitin Menon\n",
       "umpire2                                         CK Nandan\n",
       "umpire3                                               NaN\n",
       "Name: 2, dtype: object"
      ]
     },
     "execution_count": 11,
     "metadata": {},
     "output_type": "execute_result"
    }
   ],
   "source": [
    "df.iloc[df['win_by_wickets'].idxmax()]"
   ]
  },
  {
   "cell_type": "markdown",
   "metadata": {},
   "source": [
    "#### Smallest win by wickets"
   ]
  },
  {
   "cell_type": "code",
   "execution_count": 12,
   "metadata": {},
   "outputs": [
    {
     "data": {
      "text/plain": [
       "id                                                         1\n",
       "season                                                  2017\n",
       "city                                               Hyderabad\n",
       "date                                              2017-04-05\n",
       "team1                                    Sunrisers Hyderabad\n",
       "team2                            Royal Challengers Bangalore\n",
       "toss_winner                      Royal Challengers Bangalore\n",
       "toss_decision                                          field\n",
       "result                                                normal\n",
       "dl_applied                                                 0\n",
       "winner                                   Sunrisers Hyderabad\n",
       "win_by_runs                                               35\n",
       "win_by_wickets                                             0\n",
       "player_of_match                                 Yuvraj Singh\n",
       "venue              Rajiv Gandhi International Stadium, Uppal\n",
       "umpire1                                          AY Dandekar\n",
       "umpire2                                             NJ Llong\n",
       "umpire3                                                  NaN\n",
       "Name: 0, dtype: object"
      ]
     },
     "execution_count": 12,
     "metadata": {},
     "output_type": "execute_result"
    }
   ],
   "source": [
    "df.iloc[df['win_by_wickets'].idxmin()]"
   ]
  },
  {
   "cell_type": "markdown",
   "metadata": {},
   "source": [
    "#### Number of matches played in each season"
   ]
  },
  {
   "cell_type": "code",
   "execution_count": 13,
   "metadata": {},
   "outputs": [
    {
     "data": {
      "image/png": "[encoded data removed]",
      "text/plain": [
       "<Figure size 1440x288 with 1 Axes>"
      ]
     },
     "metadata": {
      "needs_background": "light"
     },
     "output_type": "display_data"
    }
   ],
   "source": [
    "fig_dims = (20,4)\n",
    "fig, ax = plt.subplots(figsize = fig_dims)\n",
    "sns.countplot(x = 'season', ax = ax, data = df)\n",
    "plt.show()"
   ]
  },
  {
   "cell_type": "markdown",
   "metadata": {},
   "source": [
    "#### Matches won by teams"
   ]
  },
  {
   "cell_type": "code",
   "execution_count": 14,
   "metadata": {},
   "outputs": [
    {
     "data": {
      "text/plain": [
       "<AxesSubplot:xlabel='winner'>"
      ]
     },
     "execution_count": 14,
     "metadata": {},
     "output_type": "execute_result"
    },
    {
     "data": {
      "image/png": "[encoded data removed]",
      "text/plain": [
       "<Figure size 432x288 with 1 Axes>"
      ]
     },
     "metadata": {
      "needs_background": "light"
     },
     "output_type": "display_data"
    }
   ],
   "source": [
    "data1 = df.winner.value_counts()\n",
    "sns.barplot(y = data1.index, x = data1)"
   ]
  },
  {
   "cell_type": "markdown",
   "metadata": {},
   "source": [
    "#### Toss analysis"
   ]
  },
  {
   "cell_type": "code",
   "execution_count": 15,
   "metadata": {},
   "outputs": [
    {
     "data": {
      "text/plain": [
       "False    363\n",
       "True     393\n",
       "dtype: int64"
      ]
     },
     "execution_count": 15,
     "metadata": {},
     "output_type": "execute_result"
    }
   ],
   "source": [
    "probablity_of_win = df['toss_winner'] == df['winner']\n",
    "probablity_of_win.groupby(probablity_of_win).size()"
   ]
  },
  {
   "cell_type": "code",
   "execution_count": 16,
   "metadata": {},
   "outputs": [
    {
     "name": "stderr",
     "output_type": "stream",
     "text": [
      "C:\\Users\\HP\\anaconda3\\lib\\site-packages\\seaborn\\_decorators.py:36: FutureWarning: Pass the following variable as a keyword arg: x. From version 0.12, the only valid positional argument will be `data`, and passing other arguments without an explicit keyword will result in an error or misinterpretation.\n",
      "  warnings.warn(\n"
     ]
    },
    {
     "data": {
      "text/plain": [
       "<AxesSubplot:ylabel='count'>"
      ]
     },
     "execution_count": 16,
     "metadata": {},
     "output_type": "execute_result"
    },
    {
     "data": {
      "image/png": "[encoded data removed]",
      "text/plain": [
       "<Figure size 432x288 with 1 Axes>"
      ]
     },
     "metadata": {
      "needs_background": "light"
     },
     "output_type": "display_data"
    }
   ],
   "source": [
    "sns.countplot(probablity_of_win)"
   ]
  },
  {
   "cell_type": "code",
   "execution_count": 17,
   "metadata": {},
   "outputs": [
    {
     "name": "stdout",
     "output_type": "stream",
     "text": [
      "display.max_colwidth : int or None\n",
      "    The maximum width in characters of a column in the repr of\n",
      "    a pandas data structure. When the column overflows, a \"...\"\n",
      "    placeholder is embedded in the output. A 'None' value means unlimited.\n",
      "    [default: 50] [currently: 400]\n"
     ]
    }
   ],
   "source": [
    "pd.set_option('max_rows', 99999)\n",
    "pd.set_option('max_colwidth', 400)\n",
    "pd.describe_option('max_colwidth')"
   ]
  },
  {
   "cell_type": "markdown",
   "metadata": {},
   "source": [
    "#### No. of matches won by teams in each season"
   ]
  },
  {
   "cell_type": "code",
   "execution_count": 18,
   "metadata": {},
   "outputs": [
    {
     "data": {
      "text/plain": [
       "season  winner                     \n",
       "2008    Rajasthan Royals               13\n",
       "        Kings XI Punjab                10\n",
       "        Chennai Super Kings             9\n",
       "        Delhi Daredevils                7\n",
       "        Mumbai Indians                  7\n",
       "        Kolkata Knight Riders           6\n",
       "        Royal Challengers Bangalore     4\n",
       "        Deccan Chargers                 2\n",
       "2009    Delhi Daredevils               10\n",
       "        Deccan Chargers                 9\n",
       "        Royal Challengers Bangalore     9\n",
       "        Chennai Super Kings             8\n",
       "        Kings XI Punjab                 7\n",
       "        Rajasthan Royals                6\n",
       "        Mumbai Indians                  5\n",
       "        Kolkata Knight Riders           3\n",
       "2010    Mumbai Indians                 11\n",
       "        Chennai Super Kings             9\n",
       "        Deccan Chargers                 8\n",
       "        Royal Challengers Bangalore     8\n",
       "        Delhi Daredevils                7\n",
       "        Kolkata Knight Riders           7\n",
       "        Rajasthan Royals                6\n",
       "        Kings XI Punjab                 4\n",
       "2011    Chennai Super Kings            11\n",
       "        Mumbai Indians                 10\n",
       "        Royal Challengers Bangalore    10\n",
       "        Kolkata Knight Riders           8\n",
       "        Kings XI Punjab                 7\n",
       "        Deccan Chargers                 6\n",
       "        Kochi Tuskers Kerala            6\n",
       "        Rajasthan Royals                6\n",
       "        Delhi Daredevils                4\n",
       "        Pune Warriors                   4\n",
       "2012    Kolkata Knight Riders          12\n",
       "        Delhi Daredevils               11\n",
       "        Chennai Super Kings            10\n",
       "        Mumbai Indians                 10\n",
       "        Kings XI Punjab                 8\n",
       "        Royal Challengers Bangalore     8\n",
       "        Rajasthan Royals                7\n",
       "        Deccan Chargers                 4\n",
       "        Pune Warriors                   4\n",
       "2013    Mumbai Indians                 13\n",
       "        Chennai Super Kings            12\n",
       "        Rajasthan Royals               11\n",
       "        Sunrisers Hyderabad            10\n",
       "        Royal Challengers Bangalore     9\n",
       "        Kings XI Punjab                 8\n",
       "        Kolkata Knight Riders           6\n",
       "        Pune Warriors                   4\n",
       "        Delhi Daredevils                3\n",
       "2014    Kings XI Punjab                12\n",
       "        Kolkata Knight Riders          11\n",
       "        Chennai Super Kings            10\n",
       "        Mumbai Indians                  7\n",
       "        Rajasthan Royals                7\n",
       "        Sunrisers Hyderabad             6\n",
       "        Royal Challengers Bangalore     5\n",
       "        Delhi Daredevils                2\n",
       "2015    Chennai Super Kings            10\n",
       "        Mumbai Indians                 10\n",
       "        Royal Challengers Bangalore     8\n",
       "        Kolkata Knight Riders           7\n",
       "        Rajasthan Royals                7\n",
       "        Sunrisers Hyderabad             7\n",
       "        Delhi Daredevils                5\n",
       "        Kings XI Punjab                 3\n",
       "2016    Sunrisers Hyderabad            11\n",
       "        Gujarat Lions                   9\n",
       "        Royal Challengers Bangalore     9\n",
       "        Kolkata Knight Riders           8\n",
       "        Delhi Daredevils                7\n",
       "        Mumbai Indians                  7\n",
       "        Rising Pune Supergiants         5\n",
       "        Kings XI Punjab                 4\n",
       "2017    Mumbai Indians                 12\n",
       "        Rising Pune Supergiant         10\n",
       "        Kolkata Knight Riders           9\n",
       "        Sunrisers Hyderabad             8\n",
       "        Kings XI Punjab                 7\n",
       "        Delhi Daredevils                6\n",
       "        Gujarat Lions                   4\n",
       "        Royal Challengers Bangalore     3\n",
       "2018    Chennai Super Kings            11\n",
       "        Sunrisers Hyderabad            10\n",
       "        Kolkata Knight Riders           9\n",
       "        Rajasthan Royals                7\n",
       "        Kings XI Punjab                 6\n",
       "        Mumbai Indians                  6\n",
       "        Royal Challengers Bangalore     6\n",
       "        Delhi Daredevils                5\n",
       "2019    Mumbai Indians                 11\n",
       "        Chennai Super Kings            10\n",
       "        Delhi Capitals                 10\n",
       "        Kings XI Punjab                 6\n",
       "        Kolkata Knight Riders           6\n",
       "        Sunrisers Hyderabad             6\n",
       "        Rajasthan Royals                5\n",
       "        Royal Challengers Bangalore     5\n",
       "Name: winner, dtype: int64"
      ]
     },
     "execution_count": 18,
     "metadata": {},
     "output_type": "execute_result"
    }
   ],
   "source": [
    "df.groupby('season')['winner'].value_counts()"
   ]
  },
  {
   "cell_type": "markdown",
   "metadata": {},
   "source": [
    "#### Toss decision"
   ]
  },
  {
   "cell_type": "code",
   "execution_count": 19,
   "metadata": {},
   "outputs": [
    {
     "data": {
      "text/plain": [
       "field    463\n",
       "bat      293\n",
       "Name: toss_decision, dtype: int64"
      ]
     },
     "execution_count": 19,
     "metadata": {},
     "output_type": "execute_result"
    }
   ],
   "source": [
    "df['toss_decision'].value_counts()"
   ]
  },
  {
   "cell_type": "markdown",
   "metadata": {},
   "source": [
    "#### Player of the match"
   ]
  },
  {
   "cell_type": "code",
   "execution_count": 20,
   "metadata": {},
   "outputs": [
    {
     "data": {
      "text/plain": [
       "CH Gayle             21\n",
       "AB de Villiers       20\n",
       "MS Dhoni             17\n",
       "DA Warner            17\n",
       "RG Sharma            17\n",
       "YK Pathan            16\n",
       "SR Watson            15\n",
       "SK Raina             14\n",
       "G Gambhir            13\n",
       "MEK Hussey           12\n",
       "V Kohli              12\n",
       "AM Rahane            12\n",
       "V Sehwag             11\n",
       "A Mishra             11\n",
       "AD Russell           11\n",
       "DR Smith             11\n",
       "KA Pollard           10\n",
       "JH Kallis            10\n",
       "SP Narine             9\n",
       "AT Rayudu             9\n",
       "SE Marsh              9\n",
       "SR Tendulkar          8\n",
       "Harbhajan Singh       8\n",
       "UT Yadav              8\n",
       "RA Jadeja             8\n",
       "RV Uthappa            7\n",
       "AC Gilchrist          7\n",
       "Rashid Khan           7\n",
       "M Vijay               6\n",
       "HH Pandya             6\n",
       "S Dhawan              6\n",
       "A Nehra               6\n",
       "RR Pant               6\n",
       "SL Malinga            6\n",
       "BJ Hodge              6\n",
       "SC Ganguly            5\n",
       "Yuvraj Singh          5\n",
       "B Kumar               5\n",
       "DPMD Jayawardene      5\n",
       "JP Faulkner           5\n",
       "DW Steyn              5\n",
       "JD Unadkat            5\n",
       "AJ Finch              5\n",
       "KC Sangakkara         5\n",
       "JJ Bumrah             5\n",
       "SV Samson             5\n",
       "PA Patel              5\n",
       "GJ Maxwell            5\n",
       "JC Buttler            5\n",
       "BB McCullum           5\n",
       "Sandeep Sharma        5\n",
       "SPD Smith             5\n",
       "KH Pandya             4\n",
       "JP Duminy             4\n",
       "NM Coulter-Nile       4\n",
       "KL Rahul              4\n",
       "AR Patel              4\n",
       "KD Karthik            4\n",
       "ML Hayden             4\n",
       "CA Lynn               4\n",
       "MK Pandey             4\n",
       "N Rana                4\n",
       "SK Warne              4\n",
       "SS Iyer               4\n",
       "F du Plessis          4\n",
       "KS Williamson         3\n",
       "DA Miller             3\n",
       "L Balaji              3\n",
       "LMP Simmons           3\n",
       "WP Saha               3\n",
       "A Kumble              3\n",
       "A Symonds             3\n",
       "BA Stokes             3\n",
       "CJ Anderson           3\n",
       "KK Nair               3\n",
       "R Vinay Kumar         3\n",
       "PP Chawla             3\n",
       "MK Tiwary             3\n",
       "Mandeep Singh         3\n",
       "DJ Bravo              3\n",
       "M Vohra               3\n",
       "LRPL Taylor           3\n",
       "KP Pietersen          3\n",
       "J Bairstow            2\n",
       "MM Patel              2\n",
       "HM Amla               2\n",
       "MG Johnson            2\n",
       "AJ Tye                2\n",
       "M Muralitharan        2\n",
       "S Gopal               2\n",
       "JA Morkel             2\n",
       "CH Morris             2\n",
       "AS Rajpoot            2\n",
       "P Negi                2\n",
       "VR Aaron              2\n",
       "P Kumar               2\n",
       "R Dravid              2\n",
       "MM Sharma             2\n",
       "B Lee                 2\n",
       "AS Yadav              2\n",
       "Harmeet Singh         2\n",
       "M Ntini               2\n",
       "R Ashwin              2\n",
       "Iqbal Abdulla         2\n",
       "R Sharma              2\n",
       "HV Patel              2\n",
       "Sohail Tanvir         2\n",
       "PV Tambe              2\n",
       "PC Valthaty           2\n",
       "KM Jadhav             2\n",
       "M Morkel              2\n",
       "MJ McClenaghan        2\n",
       "IK Pathan             2\n",
       "I Sharma              2\n",
       "DJ Hussey             2\n",
       "MA Agarwal            2\n",
       "BW Hilfenhaus         2\n",
       "Shakib Al Hasan       2\n",
       "DE Bollinger          2\n",
       "GC Smith              2\n",
       "AB Dinda              2\n",
       "MP Stoinis            2\n",
       "SK Trivedi            2\n",
       "GH Vihari             2\n",
       "SM Pollock            2\n",
       "Azhar Mahmood         2\n",
       "ST Jayasuriya         2\n",
       "MV Boucher            2\n",
       "MC Henriques          2\n",
       "JEC Franklin          1\n",
       "K Ahmed               1\n",
       "MN Samuels            1\n",
       "AC Voges              1\n",
       "JDP Oram              1\n",
       "DL Vettori            1\n",
       "Mohammed Siraj        1\n",
       "DL Chahar             1\n",
       "LH Ferguson           1\n",
       "LR Shukla             1\n",
       "JJ Roy                1\n",
       "P Parameswaran        1\n",
       "SP Goswami            1\n",
       "K Rabada              1\n",
       "Washington Sundar     1\n",
       "CL White              1\n",
       "DP Nannes             1\n",
       "GJ Bailey             1\n",
       "MJ Lumb               1\n",
       "Shoaib Akhtar         1\n",
       "A Zampa               1\n",
       "TM Dilshan            1\n",
       "Mohammed Shami        1\n",
       "NV Ojha               1\n",
       "SM Katich             1\n",
       "SB Wagh               1\n",
       "MR Marsh              1\n",
       "MS Bisla              1\n",
       "AD Mascarenhas        1\n",
       "M Kartik              1\n",
       "S Sreesanth           1\n",
       "RA Tripathi           1\n",
       "H Gurney              1\n",
       "MA Starc              1\n",
       "S Hetmyer             1\n",
       "LJ Wright             1\n",
       "S Gill                1\n",
       "TG Southee            1\n",
       "R McLaren             1\n",
       "CRD Fernando          1\n",
       "GD McGrath            1\n",
       "TL Suman              1\n",
       "DJ Hooda              1\n",
       "R Bhatia              1\n",
       "S Sohal               1\n",
       "Ishan Kishan          1\n",
       "L Ngidi               1\n",
       "Imran Tahir           1\n",
       "RS Bopara             1\n",
       "Mustafizur Rahman     1\n",
       "J Archer              1\n",
       "SW Billings           1\n",
       "P Shaw                1\n",
       "S Nadeem              1\n",
       "RE Levi               1\n",
       "YS Chahal             1\n",
       "Kuldeep Yadav         1\n",
       "MS Gony               1\n",
       "TA Boult              1\n",
       "CR Brathwaite         1\n",
       "SA Yadav              1\n",
       "SB Jakati             1\n",
       "J Botha               1\n",
       "SA Asnodkar           1\n",
       "A Chandila            1\n",
       "Z Khan                1\n",
       "M Ur Rahman           1\n",
       "PD Collingwood        1\n",
       "DJG Sammy             1\n",
       "JD Ryder              1\n",
       "Q de Kock             1\n",
       "RP Singh              1\n",
       "WPUJC Vaas            1\n",
       "PP Ojha               1\n",
       "S Badrinath           1\n",
       "KMDN Kulasekara       1\n",
       "S Curran              1\n",
       "EJG Morgan            1\n",
       "J Theron              1\n",
       "BA Bhatt              1\n",
       "B Stanlake            1\n",
       "A Singh               1\n",
       "MD Mishra             1\n",
       "KK Cooper             1\n",
       "S Anirudha            1\n",
       "S Aravind             1\n",
       "K Paul                1\n",
       "HH Gibbs              1\n",
       "KV Sharma             1\n",
       "AP Tare               1\n",
       "AD Mathews            1\n",
       "BCJ Cutting           1\n",
       "Umar Gul              1\n",
       "MF Maharoof           1\n",
       "AA Jhunjhunwala       1\n",
       "RJ Harris             1\n",
       "A Joseph              1\n",
       "Name: player_of_match, dtype: int64"
      ]
     },
     "execution_count": 20,
     "metadata": {},
     "output_type": "execute_result"
    }
   ],
   "source": [
    "df['player_of_match'].value_counts()"
   ]
  },
  {
   "cell_type": "markdown",
   "metadata": {},
   "source": [
    "#### Most matches in a city"
   ]
  },
  {
   "cell_type": "code",
   "execution_count": 21,
   "metadata": {},
   "outputs": [
    {
     "data": {
      "text/plain": [
       "Mumbai            101\n",
       "Kolkata            77\n",
       "Delhi              74\n",
       "Bangalore          66\n",
       "Hyderabad          64\n",
       "Chennai            57\n",
       "Jaipur             47\n",
       "Chandigarh         46\n",
       "Pune               38\n",
       "Durban             15\n",
       "Bengaluru          14\n",
       "Visakhapatnam      13\n",
       "Ahmedabad          12\n",
       "Centurion          12\n",
       "Mohali             10\n",
       "Rajkot             10\n",
       "Dharamsala          9\n",
       "Indore              9\n",
       "Johannesburg        8\n",
       "Abu Dhabi           7\n",
       "Port Elizabeth      7\n",
       "Cuttack             7\n",
       "Ranchi              7\n",
       "Cape Town           7\n",
       "Raipur              6\n",
       "Sharjah             6\n",
       "Kochi               5\n",
       "Kanpur              4\n",
       "Kimberley           3\n",
       "Nagpur              3\n",
       "East London         3\n",
       "Bloemfontein        2\n",
       "Name: city, dtype: int64"
      ]
     },
     "execution_count": 21,
     "metadata": {},
     "output_type": "execute_result"
    }
   ],
   "source": [
    "df['city'].value_counts()"
   ]
  },
  {
   "cell_type": "code",
   "execution_count": 22,
   "metadata": {},
   "outputs": [],
   "source": [
    "df1 = pd.read_csv('../IPL Data Analysis/innings_data.csv')"
   ]
  },
  {
   "cell_type": "code",
   "execution_count": 23,
   "metadata": {},
   "outputs": [
    {
     "data": {
      "text/html": [
       "<div>\n",
       "<style scoped>\n",
       "    .dataframe tbody tr th:only-of-type {\n",
       "        vertical-align: middle;\n",
       "    }\n",
       "\n",
       "    .dataframe tbody tr th {\n",
       "        vertical-align: top;\n",
       "    }\n",
       "\n",
       "    .dataframe thead th {\n",
       "        text-align: right;\n",
       "    }\n",
       "</style>\n",
       "<table border=\"1\" class=\"dataframe\">\n",
       "  <thead>\n",
       "    <tr style=\"text-align: right;\">\n",
       "      <th></th>\n",
       "      <th>id</th>\n",
       "      <th>season</th>\n",
       "      <th>batsman</th>\n",
       "      <th>bowler</th>\n",
       "      <th>innings</th>\n",
       "      <th>non_striker</th>\n",
       "      <th>replacements</th>\n",
       "      <th>bowled_over</th>\n",
       "      <th>batsman_team</th>\n",
       "      <th>player_out</th>\n",
       "      <th>fielder_caught_out</th>\n",
       "      <th>type_out</th>\n",
       "      <th>extras_wides</th>\n",
       "      <th>extras_legbyes</th>\n",
       "      <th>extras_noballs</th>\n",
       "      <th>extras_byes</th>\n",
       "      <th>extras_penalty</th>\n",
       "      <th>total_extras_runs</th>\n",
       "      <th>batsman_runs</th>\n",
       "      <th>total_runs</th>\n",
       "    </tr>\n",
       "  </thead>\n",
       "  <tbody>\n",
       "    <tr>\n",
       "      <th>0</th>\n",
       "      <td>335988</td>\n",
       "      <td>2008</td>\n",
       "      <td>AC Gilchrist</td>\n",
       "      <td>GD McGrath</td>\n",
       "      <td>1st</td>\n",
       "      <td>JC Buttler</td>\n",
       "      <td>NaN</td>\n",
       "      <td>0.1</td>\n",
       "      <td>Rajasthan Royals</td>\n",
       "      <td>0</td>\n",
       "      <td>0</td>\n",
       "      <td>0</td>\n",
       "      <td>0</td>\n",
       "      <td>1</td>\n",
       "      <td>0</td>\n",
       "      <td>0</td>\n",
       "      <td>0</td>\n",
       "      <td>1</td>\n",
       "      <td>0</td>\n",
       "      <td>1</td>\n",
       "    </tr>\n",
       "    <tr>\n",
       "      <th>1</th>\n",
       "      <td>335988</td>\n",
       "      <td>2008</td>\n",
       "      <td>AC Gilchrist</td>\n",
       "      <td>GD McGrath</td>\n",
       "      <td>1st</td>\n",
       "      <td>AM Rahane</td>\n",
       "      <td>NaN</td>\n",
       "      <td>0.2</td>\n",
       "      <td>Rajasthan Royals</td>\n",
       "      <td>0</td>\n",
       "      <td>0</td>\n",
       "      <td>0</td>\n",
       "      <td>0</td>\n",
       "      <td>0</td>\n",
       "      <td>0</td>\n",
       "      <td>0</td>\n",
       "      <td>0</td>\n",
       "      <td>0</td>\n",
       "      <td>0</td>\n",
       "      <td>0</td>\n",
       "    </tr>\n",
       "    <tr>\n",
       "      <th>2</th>\n",
       "      <td>335988</td>\n",
       "      <td>2008</td>\n",
       "      <td>AC Gilchrist</td>\n",
       "      <td>GD McGrath</td>\n",
       "      <td>1st</td>\n",
       "      <td>AM Rahane</td>\n",
       "      <td>NaN</td>\n",
       "      <td>0.3</td>\n",
       "      <td>Rajasthan Royals</td>\n",
       "      <td>0</td>\n",
       "      <td>0</td>\n",
       "      <td>0</td>\n",
       "      <td>0</td>\n",
       "      <td>0</td>\n",
       "      <td>0</td>\n",
       "      <td>0</td>\n",
       "      <td>0</td>\n",
       "      <td>0</td>\n",
       "      <td>4</td>\n",
       "      <td>4</td>\n",
       "    </tr>\n",
       "    <tr>\n",
       "      <th>3</th>\n",
       "      <td>335988</td>\n",
       "      <td>2008</td>\n",
       "      <td>Y Venugopal Rao</td>\n",
       "      <td>GD McGrath</td>\n",
       "      <td>1st</td>\n",
       "      <td>AM Rahane</td>\n",
       "      <td>NaN</td>\n",
       "      <td>0.4</td>\n",
       "      <td>Rajasthan Royals</td>\n",
       "      <td>0</td>\n",
       "      <td>0</td>\n",
       "      <td>0</td>\n",
       "      <td>0</td>\n",
       "      <td>0</td>\n",
       "      <td>0</td>\n",
       "      <td>0</td>\n",
       "      <td>0</td>\n",
       "      <td>0</td>\n",
       "      <td>0</td>\n",
       "      <td>0</td>\n",
       "    </tr>\n",
       "    <tr>\n",
       "      <th>4</th>\n",
       "      <td>335988</td>\n",
       "      <td>2008</td>\n",
       "      <td>Y Venugopal Rao</td>\n",
       "      <td>GD McGrath</td>\n",
       "      <td>1st</td>\n",
       "      <td>AM Rahane</td>\n",
       "      <td>NaN</td>\n",
       "      <td>0.5</td>\n",
       "      <td>Rajasthan Royals</td>\n",
       "      <td>0</td>\n",
       "      <td>0</td>\n",
       "      <td>0</td>\n",
       "      <td>0</td>\n",
       "      <td>0</td>\n",
       "      <td>0</td>\n",
       "      <td>0</td>\n",
       "      <td>0</td>\n",
       "      <td>0</td>\n",
       "      <td>6</td>\n",
       "      <td>6</td>\n",
       "    </tr>\n",
       "  </tbody>\n",
       "</table>\n",
       "</div>"
      ],
      "text/plain": [
       "       id  season          batsman      bowler innings non_striker  \\\n",
       "0  335988    2008     AC Gilchrist  GD McGrath     1st  JC Buttler   \n",
       "1  335988    2008     AC Gilchrist  GD McGrath     1st   AM Rahane   \n",
       "2  335988    2008     AC Gilchrist  GD McGrath     1st   AM Rahane   \n",
       "3  335988    2008  Y Venugopal Rao  GD McGrath     1st   AM Rahane   \n",
       "4  335988    2008  Y Venugopal Rao  GD McGrath     1st   AM Rahane   \n",
       "\n",
       "  replacements  bowled_over      batsman_team player_out fielder_caught_out  \\\n",
       "0          NaN          0.1  Rajasthan Royals          0                  0   \n",
       "1          NaN          0.2  Rajasthan Royals          0                  0   \n",
       "2          NaN          0.3  Rajasthan Royals          0                  0   \n",
       "3          NaN          0.4  Rajasthan Royals          0                  0   \n",
       "4          NaN          0.5  Rajasthan Royals          0                  0   \n",
       "\n",
       "  type_out  extras_wides  extras_legbyes  extras_noballs  extras_byes  \\\n",
       "0        0             0               1               0            0   \n",
       "1        0             0               0               0            0   \n",
       "2        0             0               0               0            0   \n",
       "3        0             0               0               0            0   \n",
       "4        0             0               0               0            0   \n",
       "\n",
       "   extras_penalty  total_extras_runs  batsman_runs  total_runs  \n",
       "0               0                  1             0           1  \n",
       "1               0                  0             0           0  \n",
       "2               0                  0             4           4  \n",
       "3               0                  0             0           0  \n",
       "4               0                  0             6           6  "
      ]
     },
     "execution_count": 23,
     "metadata": {},
     "output_type": "execute_result"
    }
   ],
   "source": [
    "df1.head()"
   ]
  },
  {
   "cell_type": "code",
   "execution_count": 24,
   "metadata": {},
   "outputs": [
    {
     "data": {
      "text/plain": [
       "Index(['id', 'season', 'batsman', 'bowler', 'innings', 'non_striker',\n",
       "       'replacements', 'bowled_over', 'batsman_team', 'player_out',\n",
       "       'fielder_caught_out', 'type_out', 'extras_wides', 'extras_legbyes',\n",
       "       'extras_noballs', 'extras_byes', 'extras_penalty', 'total_extras_runs',\n",
       "       'batsman_runs', 'total_runs'],\n",
       "      dtype='object')"
      ]
     },
     "execution_count": 24,
     "metadata": {},
     "output_type": "execute_result"
    }
   ],
   "source": [
    "df1.columns"
   ]
  },
  {
   "cell_type": "code",
   "execution_count": 25,
   "metadata": {},
   "outputs": [
    {
     "data": {
      "text/plain": [
       "(176573, 20)"
      ]
     },
     "execution_count": 25,
     "metadata": {},
     "output_type": "execute_result"
    }
   ],
   "source": [
    "df1.shape"
   ]
  },
  {
   "cell_type": "code",
   "execution_count": 26,
   "metadata": {},
   "outputs": [
    {
     "data": {
      "text/html": [
       "<div>\n",
       "<style scoped>\n",
       "    .dataframe tbody tr th:only-of-type {\n",
       "        vertical-align: middle;\n",
       "    }\n",
       "\n",
       "    .dataframe tbody tr th {\n",
       "        vertical-align: top;\n",
       "    }\n",
       "\n",
       "    .dataframe thead th {\n",
       "        text-align: right;\n",
       "    }\n",
       "</style>\n",
       "<table border=\"1\" class=\"dataframe\">\n",
       "  <thead>\n",
       "    <tr style=\"text-align: right;\">\n",
       "      <th></th>\n",
       "      <th>id</th>\n",
       "      <th>season</th>\n",
       "      <th>batsman</th>\n",
       "      <th>bowler</th>\n",
       "      <th>innings</th>\n",
       "      <th>non_striker</th>\n",
       "      <th>replacements</th>\n",
       "      <th>bowled_over</th>\n",
       "      <th>batsman_team</th>\n",
       "      <th>player_out</th>\n",
       "      <th>fielder_caught_out</th>\n",
       "      <th>type_out</th>\n",
       "      <th>extras_wides</th>\n",
       "      <th>extras_legbyes</th>\n",
       "      <th>extras_noballs</th>\n",
       "      <th>extras_byes</th>\n",
       "      <th>extras_penalty</th>\n",
       "      <th>total_extras_runs</th>\n",
       "      <th>batsman_runs</th>\n",
       "      <th>total_runs</th>\n",
       "    </tr>\n",
       "  </thead>\n",
       "  <tbody>\n",
       "    <tr>\n",
       "      <th>176568</th>\n",
       "      <td>1178424</td>\n",
       "      <td>2019</td>\n",
       "      <td>SV Samson</td>\n",
       "      <td>K Khejroliya</td>\n",
       "      <td>2nd</td>\n",
       "      <td>MS Dhoni</td>\n",
       "      <td>NaN</td>\n",
       "      <td>19.2</td>\n",
       "      <td>Chennai Super Kings</td>\n",
       "      <td>0</td>\n",
       "      <td>0</td>\n",
       "      <td>0</td>\n",
       "      <td>0</td>\n",
       "      <td>0</td>\n",
       "      <td>0</td>\n",
       "      <td>0</td>\n",
       "      <td>0</td>\n",
       "      <td>0</td>\n",
       "      <td>4</td>\n",
       "      <td>4</td>\n",
       "    </tr>\n",
       "    <tr>\n",
       "      <th>176569</th>\n",
       "      <td>1178424</td>\n",
       "      <td>2019</td>\n",
       "      <td>SV Samson</td>\n",
       "      <td>K Khejroliya</td>\n",
       "      <td>2nd</td>\n",
       "      <td>MS Dhoni</td>\n",
       "      <td>NaN</td>\n",
       "      <td>19.3</td>\n",
       "      <td>Chennai Super Kings</td>\n",
       "      <td>0</td>\n",
       "      <td>0</td>\n",
       "      <td>0</td>\n",
       "      <td>0</td>\n",
       "      <td>0</td>\n",
       "      <td>0</td>\n",
       "      <td>0</td>\n",
       "      <td>0</td>\n",
       "      <td>0</td>\n",
       "      <td>2</td>\n",
       "      <td>2</td>\n",
       "    </tr>\n",
       "    <tr>\n",
       "      <th>176570</th>\n",
       "      <td>1178424</td>\n",
       "      <td>2019</td>\n",
       "      <td>SV Samson</td>\n",
       "      <td>K Khejroliya</td>\n",
       "      <td>2nd</td>\n",
       "      <td>MS Dhoni</td>\n",
       "      <td>NaN</td>\n",
       "      <td>19.4</td>\n",
       "      <td>Chennai Super Kings</td>\n",
       "      <td>SW Billings</td>\n",
       "      <td>0</td>\n",
       "      <td>run out</td>\n",
       "      <td>0</td>\n",
       "      <td>0</td>\n",
       "      <td>0</td>\n",
       "      <td>0</td>\n",
       "      <td>0</td>\n",
       "      <td>0</td>\n",
       "      <td>0</td>\n",
       "      <td>0</td>\n",
       "    </tr>\n",
       "    <tr>\n",
       "      <th>176571</th>\n",
       "      <td>1178424</td>\n",
       "      <td>2019</td>\n",
       "      <td>LS Livingstone</td>\n",
       "      <td>YS Chahal</td>\n",
       "      <td>2nd</td>\n",
       "      <td>MS Dhoni</td>\n",
       "      <td>NaN</td>\n",
       "      <td>19.5</td>\n",
       "      <td>Chennai Super Kings</td>\n",
       "      <td>0</td>\n",
       "      <td>0</td>\n",
       "      <td>0</td>\n",
       "      <td>0</td>\n",
       "      <td>0</td>\n",
       "      <td>0</td>\n",
       "      <td>0</td>\n",
       "      <td>0</td>\n",
       "      <td>0</td>\n",
       "      <td>1</td>\n",
       "      <td>1</td>\n",
       "    </tr>\n",
       "    <tr>\n",
       "      <th>176572</th>\n",
       "      <td>1178424</td>\n",
       "      <td>2019</td>\n",
       "      <td>SV Samson</td>\n",
       "      <td>YS Chahal</td>\n",
       "      <td>2nd</td>\n",
       "      <td>DJ Bravo</td>\n",
       "      <td>NaN</td>\n",
       "      <td>19.6</td>\n",
       "      <td>Chennai Super Kings</td>\n",
       "      <td>0</td>\n",
       "      <td>0</td>\n",
       "      <td>0</td>\n",
       "      <td>0</td>\n",
       "      <td>0</td>\n",
       "      <td>0</td>\n",
       "      <td>0</td>\n",
       "      <td>0</td>\n",
       "      <td>0</td>\n",
       "      <td>1</td>\n",
       "      <td>1</td>\n",
       "    </tr>\n",
       "  </tbody>\n",
       "</table>\n",
       "</div>"
      ],
      "text/plain": [
       "             id  season         batsman        bowler innings non_striker  \\\n",
       "176568  1178424    2019       SV Samson  K Khejroliya     2nd    MS Dhoni   \n",
       "176569  1178424    2019       SV Samson  K Khejroliya     2nd    MS Dhoni   \n",
       "176570  1178424    2019       SV Samson  K Khejroliya     2nd    MS Dhoni   \n",
       "176571  1178424    2019  LS Livingstone     YS Chahal     2nd    MS Dhoni   \n",
       "176572  1178424    2019       SV Samson     YS Chahal     2nd    DJ Bravo   \n",
       "\n",
       "       replacements  bowled_over         batsman_team   player_out  \\\n",
       "176568          NaN         19.2  Chennai Super Kings            0   \n",
       "176569          NaN         19.3  Chennai Super Kings            0   \n",
       "176570          NaN         19.4  Chennai Super Kings  SW Billings   \n",
       "176571          NaN         19.5  Chennai Super Kings            0   \n",
       "176572          NaN         19.6  Chennai Super Kings            0   \n",
       "\n",
       "       fielder_caught_out type_out  extras_wides  extras_legbyes  \\\n",
       "176568                  0        0             0               0   \n",
       "176569                  0        0             0               0   \n",
       "176570                  0  run out             0               0   \n",
       "176571                  0        0             0               0   \n",
       "176572                  0        0             0               0   \n",
       "\n",
       "        extras_noballs  extras_byes  extras_penalty  total_extras_runs  \\\n",
       "176568               0            0               0                  0   \n",
       "176569               0            0               0                  0   \n",
       "176570               0            0               0                  0   \n",
       "176571               0            0               0                  0   \n",
       "176572               0            0               0                  0   \n",
       "\n",
       "        batsman_runs  total_runs  \n",
       "176568             4           4  \n",
       "176569             2           2  \n",
       "176570             0           0  \n",
       "176571             1           1  \n",
       "176572             1           1  "
      ]
     },
     "execution_count": 26,
     "metadata": {},
     "output_type": "execute_result"
    }
   ],
   "source": [
    "df1.tail()"
   ]
  },
  {
   "cell_type": "code",
   "execution_count": 27,
   "metadata": {},
   "outputs": [
    {
     "data": {
      "text/plain": [
       "id                         0\n",
       "season                     0\n",
       "batsman                    0\n",
       "bowler                     0\n",
       "innings                    0\n",
       "non_striker                0\n",
       "replacements          176543\n",
       "bowled_over                0\n",
       "batsman_team               0\n",
       "player_out                 0\n",
       "fielder_caught_out         0\n",
       "type_out                   0\n",
       "extras_wides               0\n",
       "extras_legbyes             0\n",
       "extras_noballs             0\n",
       "extras_byes                0\n",
       "extras_penalty             0\n",
       "total_extras_runs          0\n",
       "batsman_runs               0\n",
       "total_runs                 0\n",
       "dtype: int64"
      ]
     },
     "execution_count": 27,
     "metadata": {},
     "output_type": "execute_result"
    }
   ],
   "source": [
    "df1.isna().sum()"
   ]
  },
  {
   "cell_type": "code",
   "execution_count": 28,
   "metadata": {},
   "outputs": [],
   "source": [
    "df1.drop(columns = 'replacements', inplace = True)"
   ]
  },
  {
   "cell_type": "code",
   "execution_count": 29,
   "metadata": {},
   "outputs": [
    {
     "data": {
      "text/html": [
       "<div>\n",
       "<style scoped>\n",
       "    .dataframe tbody tr th:only-of-type {\n",
       "        vertical-align: middle;\n",
       "    }\n",
       "\n",
       "    .dataframe tbody tr th {\n",
       "        vertical-align: top;\n",
       "    }\n",
       "\n",
       "    .dataframe thead th {\n",
       "        text-align: right;\n",
       "    }\n",
       "</style>\n",
       "<table border=\"1\" class=\"dataframe\">\n",
       "  <thead>\n",
       "    <tr style=\"text-align: right;\">\n",
       "      <th></th>\n",
       "      <th>id</th>\n",
       "      <th>season</th>\n",
       "      <th>batsman</th>\n",
       "      <th>bowler</th>\n",
       "      <th>innings</th>\n",
       "      <th>non_striker</th>\n",
       "      <th>bowled_over</th>\n",
       "      <th>batsman_team</th>\n",
       "      <th>player_out</th>\n",
       "      <th>fielder_caught_out</th>\n",
       "      <th>type_out</th>\n",
       "      <th>extras_wides</th>\n",
       "      <th>extras_legbyes</th>\n",
       "      <th>extras_noballs</th>\n",
       "      <th>extras_byes</th>\n",
       "      <th>extras_penalty</th>\n",
       "      <th>total_extras_runs</th>\n",
       "      <th>batsman_runs</th>\n",
       "      <th>total_runs</th>\n",
       "    </tr>\n",
       "  </thead>\n",
       "  <tbody>\n",
       "    <tr>\n",
       "      <th>0</th>\n",
       "      <td>335988</td>\n",
       "      <td>2008</td>\n",
       "      <td>AC Gilchrist</td>\n",
       "      <td>GD McGrath</td>\n",
       "      <td>1st</td>\n",
       "      <td>JC Buttler</td>\n",
       "      <td>0.1</td>\n",
       "      <td>Rajasthan Royals</td>\n",
       "      <td>0</td>\n",
       "      <td>0</td>\n",
       "      <td>0</td>\n",
       "      <td>0</td>\n",
       "      <td>1</td>\n",
       "      <td>0</td>\n",
       "      <td>0</td>\n",
       "      <td>0</td>\n",
       "      <td>1</td>\n",
       "      <td>0</td>\n",
       "      <td>1</td>\n",
       "    </tr>\n",
       "    <tr>\n",
       "      <th>1</th>\n",
       "      <td>335988</td>\n",
       "      <td>2008</td>\n",
       "      <td>AC Gilchrist</td>\n",
       "      <td>GD McGrath</td>\n",
       "      <td>1st</td>\n",
       "      <td>AM Rahane</td>\n",
       "      <td>0.2</td>\n",
       "      <td>Rajasthan Royals</td>\n",
       "      <td>0</td>\n",
       "      <td>0</td>\n",
       "      <td>0</td>\n",
       "      <td>0</td>\n",
       "      <td>0</td>\n",
       "      <td>0</td>\n",
       "      <td>0</td>\n",
       "      <td>0</td>\n",
       "      <td>0</td>\n",
       "      <td>0</td>\n",
       "      <td>0</td>\n",
       "    </tr>\n",
       "    <tr>\n",
       "      <th>2</th>\n",
       "      <td>335988</td>\n",
       "      <td>2008</td>\n",
       "      <td>AC Gilchrist</td>\n",
       "      <td>GD McGrath</td>\n",
       "      <td>1st</td>\n",
       "      <td>AM Rahane</td>\n",
       "      <td>0.3</td>\n",
       "      <td>Rajasthan Royals</td>\n",
       "      <td>0</td>\n",
       "      <td>0</td>\n",
       "      <td>0</td>\n",
       "      <td>0</td>\n",
       "      <td>0</td>\n",
       "      <td>0</td>\n",
       "      <td>0</td>\n",
       "      <td>0</td>\n",
       "      <td>0</td>\n",
       "      <td>4</td>\n",
       "      <td>4</td>\n",
       "    </tr>\n",
       "    <tr>\n",
       "      <th>3</th>\n",
       "      <td>335988</td>\n",
       "      <td>2008</td>\n",
       "      <td>Y Venugopal Rao</td>\n",
       "      <td>GD McGrath</td>\n",
       "      <td>1st</td>\n",
       "      <td>AM Rahane</td>\n",
       "      <td>0.4</td>\n",
       "      <td>Rajasthan Royals</td>\n",
       "      <td>0</td>\n",
       "      <td>0</td>\n",
       "      <td>0</td>\n",
       "      <td>0</td>\n",
       "      <td>0</td>\n",
       "      <td>0</td>\n",
       "      <td>0</td>\n",
       "      <td>0</td>\n",
       "      <td>0</td>\n",
       "      <td>0</td>\n",
       "      <td>0</td>\n",
       "    </tr>\n",
       "    <tr>\n",
       "      <th>4</th>\n",
       "      <td>335988</td>\n",
       "      <td>2008</td>\n",
       "      <td>Y Venugopal Rao</td>\n",
       "      <td>GD McGrath</td>\n",
       "      <td>1st</td>\n",
       "      <td>AM Rahane</td>\n",
       "      <td>0.5</td>\n",
       "      <td>Rajasthan Royals</td>\n",
       "      <td>0</td>\n",
       "      <td>0</td>\n",
       "      <td>0</td>\n",
       "      <td>0</td>\n",
       "      <td>0</td>\n",
       "      <td>0</td>\n",
       "      <td>0</td>\n",
       "      <td>0</td>\n",
       "      <td>0</td>\n",
       "      <td>6</td>\n",
       "      <td>6</td>\n",
       "    </tr>\n",
       "  </tbody>\n",
       "</table>\n",
       "</div>"
      ],
      "text/plain": [
       "       id  season          batsman      bowler innings non_striker  \\\n",
       "0  335988    2008     AC Gilchrist  GD McGrath     1st  JC Buttler   \n",
       "1  335988    2008     AC Gilchrist  GD McGrath     1st   AM Rahane   \n",
       "2  335988    2008     AC Gilchrist  GD McGrath     1st   AM Rahane   \n",
       "3  335988    2008  Y Venugopal Rao  GD McGrath     1st   AM Rahane   \n",
       "4  335988    2008  Y Venugopal Rao  GD McGrath     1st   AM Rahane   \n",
       "\n",
       "   bowled_over      batsman_team player_out fielder_caught_out type_out  \\\n",
       "0          0.1  Rajasthan Royals          0                  0        0   \n",
       "1          0.2  Rajasthan Royals          0                  0        0   \n",
       "2          0.3  Rajasthan Royals          0                  0        0   \n",
       "3          0.4  Rajasthan Royals          0                  0        0   \n",
       "4          0.5  Rajasthan Royals          0                  0        0   \n",
       "\n",
       "   extras_wides  extras_legbyes  extras_noballs  extras_byes  extras_penalty  \\\n",
       "0             0               1               0            0               0   \n",
       "1             0               0               0            0               0   \n",
       "2             0               0               0            0               0   \n",
       "3             0               0               0            0               0   \n",
       "4             0               0               0            0               0   \n",
       "\n",
       "   total_extras_runs  batsman_runs  total_runs  \n",
       "0                  1             0           1  \n",
       "1                  0             0           0  \n",
       "2                  0             4           4  \n",
       "3                  0             0           0  \n",
       "4                  0             6           6  "
      ]
     },
     "execution_count": 29,
     "metadata": {},
     "output_type": "execute_result"
    }
   ],
   "source": [
    "df1.head()"
   ]
  },
  {
   "cell_type": "code",
   "execution_count": 30,
   "metadata": {},
   "outputs": [
    {
     "data": {
      "text/html": [
       "<div>\n",
       "<style scoped>\n",
       "    .dataframe tbody tr th:only-of-type {\n",
       "        vertical-align: middle;\n",
       "    }\n",
       "\n",
       "    .dataframe tbody tr th {\n",
       "        vertical-align: top;\n",
       "    }\n",
       "\n",
       "    .dataframe thead th {\n",
       "        text-align: right;\n",
       "    }\n",
       "</style>\n",
       "<table border=\"1\" class=\"dataframe\">\n",
       "  <thead>\n",
       "    <tr style=\"text-align: right;\">\n",
       "      <th></th>\n",
       "      <th>id</th>\n",
       "      <th>season</th>\n",
       "      <th>batsman</th>\n",
       "      <th>bowler</th>\n",
       "      <th>innings</th>\n",
       "      <th>non_striker</th>\n",
       "      <th>bowled_over</th>\n",
       "      <th>batsman_team</th>\n",
       "      <th>player_out</th>\n",
       "      <th>fielder_caught_out</th>\n",
       "      <th>type_out</th>\n",
       "      <th>extras_wides</th>\n",
       "      <th>extras_legbyes</th>\n",
       "      <th>extras_noballs</th>\n",
       "      <th>extras_byes</th>\n",
       "      <th>extras_penalty</th>\n",
       "      <th>total_extras_runs</th>\n",
       "      <th>batsman_runs</th>\n",
       "      <th>total_runs</th>\n",
       "    </tr>\n",
       "  </thead>\n",
       "  <tbody>\n",
       "    <tr>\n",
       "      <th>176568</th>\n",
       "      <td>1178424</td>\n",
       "      <td>2019</td>\n",
       "      <td>SV Samson</td>\n",
       "      <td>K Khejroliya</td>\n",
       "      <td>2nd</td>\n",
       "      <td>MS Dhoni</td>\n",
       "      <td>19.2</td>\n",
       "      <td>Chennai Super Kings</td>\n",
       "      <td>0</td>\n",
       "      <td>0</td>\n",
       "      <td>0</td>\n",
       "      <td>0</td>\n",
       "      <td>0</td>\n",
       "      <td>0</td>\n",
       "      <td>0</td>\n",
       "      <td>0</td>\n",
       "      <td>0</td>\n",
       "      <td>4</td>\n",
       "      <td>4</td>\n",
       "    </tr>\n",
       "    <tr>\n",
       "      <th>176569</th>\n",
       "      <td>1178424</td>\n",
       "      <td>2019</td>\n",
       "      <td>SV Samson</td>\n",
       "      <td>K Khejroliya</td>\n",
       "      <td>2nd</td>\n",
       "      <td>MS Dhoni</td>\n",
       "      <td>19.3</td>\n",
       "      <td>Chennai Super Kings</td>\n",
       "      <td>0</td>\n",
       "      <td>0</td>\n",
       "      <td>0</td>\n",
       "      <td>0</td>\n",
       "      <td>0</td>\n",
       "      <td>0</td>\n",
       "      <td>0</td>\n",
       "      <td>0</td>\n",
       "      <td>0</td>\n",
       "      <td>2</td>\n",
       "      <td>2</td>\n",
       "    </tr>\n",
       "    <tr>\n",
       "      <th>176570</th>\n",
       "      <td>1178424</td>\n",
       "      <td>2019</td>\n",
       "      <td>SV Samson</td>\n",
       "      <td>K Khejroliya</td>\n",
       "      <td>2nd</td>\n",
       "      <td>MS Dhoni</td>\n",
       "      <td>19.4</td>\n",
       "      <td>Chennai Super Kings</td>\n",
       "      <td>SW Billings</td>\n",
       "      <td>0</td>\n",
       "      <td>run out</td>\n",
       "      <td>0</td>\n",
       "      <td>0</td>\n",
       "      <td>0</td>\n",
       "      <td>0</td>\n",
       "      <td>0</td>\n",
       "      <td>0</td>\n",
       "      <td>0</td>\n",
       "      <td>0</td>\n",
       "    </tr>\n",
       "    <tr>\n",
       "      <th>176571</th>\n",
       "      <td>1178424</td>\n",
       "      <td>2019</td>\n",
       "      <td>LS Livingstone</td>\n",
       "      <td>YS Chahal</td>\n",
       "      <td>2nd</td>\n",
       "      <td>MS Dhoni</td>\n",
       "      <td>19.5</td>\n",
       "      <td>Chennai Super Kings</td>\n",
       "      <td>0</td>\n",
       "      <td>0</td>\n",
       "      <td>0</td>\n",
       "      <td>0</td>\n",
       "      <td>0</td>\n",
       "      <td>0</td>\n",
       "      <td>0</td>\n",
       "      <td>0</td>\n",
       "      <td>0</td>\n",
       "      <td>1</td>\n",
       "      <td>1</td>\n",
       "    </tr>\n",
       "    <tr>\n",
       "      <th>176572</th>\n",
       "      <td>1178424</td>\n",
       "      <td>2019</td>\n",
       "      <td>SV Samson</td>\n",
       "      <td>YS Chahal</td>\n",
       "      <td>2nd</td>\n",
       "      <td>DJ Bravo</td>\n",
       "      <td>19.6</td>\n",
       "      <td>Chennai Super Kings</td>\n",
       "      <td>0</td>\n",
       "      <td>0</td>\n",
       "      <td>0</td>\n",
       "      <td>0</td>\n",
       "      <td>0</td>\n",
       "      <td>0</td>\n",
       "      <td>0</td>\n",
       "      <td>0</td>\n",
       "      <td>0</td>\n",
       "      <td>1</td>\n",
       "      <td>1</td>\n",
       "    </tr>\n",
       "  </tbody>\n",
       "</table>\n",
       "</div>"
      ],
      "text/plain": [
       "             id  season         batsman        bowler innings non_striker  \\\n",
       "176568  1178424    2019       SV Samson  K Khejroliya     2nd    MS Dhoni   \n",
       "176569  1178424    2019       SV Samson  K Khejroliya     2nd    MS Dhoni   \n",
       "176570  1178424    2019       SV Samson  K Khejroliya     2nd    MS Dhoni   \n",
       "176571  1178424    2019  LS Livingstone     YS Chahal     2nd    MS Dhoni   \n",
       "176572  1178424    2019       SV Samson     YS Chahal     2nd    DJ Bravo   \n",
       "\n",
       "        bowled_over         batsman_team   player_out fielder_caught_out  \\\n",
       "176568         19.2  Chennai Super Kings            0                  0   \n",
       "176569         19.3  Chennai Super Kings            0                  0   \n",
       "176570         19.4  Chennai Super Kings  SW Billings                  0   \n",
       "176571         19.5  Chennai Super Kings            0                  0   \n",
       "176572         19.6  Chennai Super Kings            0                  0   \n",
       "\n",
       "       type_out  extras_wides  extras_legbyes  extras_noballs  extras_byes  \\\n",
       "176568        0             0               0               0            0   \n",
       "176569        0             0               0               0            0   \n",
       "176570  run out             0               0               0            0   \n",
       "176571        0             0               0               0            0   \n",
       "176572        0             0               0               0            0   \n",
       "\n",
       "        extras_penalty  total_extras_runs  batsman_runs  total_runs  \n",
       "176568               0                  0             4           4  \n",
       "176569               0                  0             2           2  \n",
       "176570               0                  0             0           0  \n",
       "176571               0                  0             1           1  \n",
       "176572               0                  0             1           1  "
      ]
     },
     "execution_count": 30,
     "metadata": {},
     "output_type": "execute_result"
    }
   ],
   "source": [
    "df1.tail()"
   ]
  },
  {
   "cell_type": "markdown",
   "metadata": {},
   "source": [
    "#### Most number of bowls faced"
   ]
  },
  {
   "cell_type": "code",
   "execution_count": 31,
   "metadata": {},
   "outputs": [
    {
     "data": {
      "text/plain": [
       "V Kohli      4202\n",
       "SK Raina     3968\n",
       "S Dhawan     3732\n",
       "RG Sharma    3732\n",
       "G Gambhir    3524\n",
       "Name: batsman, dtype: int64"
      ]
     },
     "execution_count": 31,
     "metadata": {},
     "output_type": "execute_result"
    }
   ],
   "source": [
    "df1['batsman'].value_counts().head()"
   ]
  },
  {
   "cell_type": "markdown",
   "metadata": {},
   "source": [
    "#### Most number of bowls bowled"
   ]
  },
  {
   "cell_type": "code",
   "execution_count": 32,
   "metadata": {},
   "outputs": [
    {
     "data": {
      "text/plain": [
       "Harbhajan Singh    3352\n",
       "PP Chawla          3133\n",
       "A Mishra           3100\n",
       "R Ashwin           2966\n",
       "SL Malinga         2878\n",
       "Name: bowler, dtype: int64"
      ]
     },
     "execution_count": 32,
     "metadata": {},
     "output_type": "execute_result"
    }
   ],
   "source": [
    "df1['bowler'].value_counts().head()"
   ]
  },
  {
   "cell_type": "markdown",
   "metadata": {},
   "source": [
    "#### Sixes and Fours"
   ]
  },
  {
   "cell_type": "code",
   "execution_count": 33,
   "metadata": {},
   "outputs": [
    {
     "data": {
      "text/plain": [
       "20075"
      ]
     },
     "execution_count": 33,
     "metadata": {},
     "output_type": "execute_result"
    }
   ],
   "source": [
    "fours = (df1['batsman_runs'] == 4).sum()\n",
    "fours.sum()"
   ]
  },
  {
   "cell_type": "code",
   "execution_count": 34,
   "metadata": {},
   "outputs": [
    {
     "data": {
      "text/plain": [
       "8035"
      ]
     },
     "execution_count": 34,
     "metadata": {},
     "output_type": "execute_result"
    }
   ],
   "source": [
    "sixes = (df1['batsman_runs'] == 6).sum()\n",
    "sixes.sum()"
   ]
  },
  {
   "cell_type": "code",
   "execution_count": 35,
   "metadata": {},
   "outputs": [
    {
     "data": {
      "image/png": "[encoded data removed]",
      "text/plain": [
       "<Figure size 1080x576 with 1 Axes>"
      ]
     },
     "metadata": {},
     "output_type": "display_data"
    }
   ],
   "source": [
    "my_data = [sixes,fours]\n",
    "my_labels = ['Sixes', 'Fours']\n",
    "plt.figure(figsize=(15, 8))\n",
    "plt.pie(my_data,labels=my_labels,autopct='%1.1f%%')\n",
    "plt.title('Sixes vs Fours')\n",
    "plt.legend()\n",
    "plt.show()"
   ]
  },
  {
   "cell_type": "markdown",
   "metadata": {},
   "source": [
    "#### Ways of getting out"
   ]
  },
  {
   "cell_type": "code",
   "execution_count": 36,
   "metadata": {},
   "outputs": [
    {
     "data": {
      "text/plain": [
       "0                        167862\n",
       "caught                     5219\n",
       "bowled                     1566\n",
       "run out                     844\n",
       "lbw                         530\n",
       "stumped                     280\n",
       "caught and bowled           250\n",
       "retired hurt                 11\n",
       "hit wicket                   10\n",
       "obstructing the field         1\n",
       "Name: type_out, dtype: int64"
      ]
     },
     "execution_count": 36,
     "metadata": {},
     "output_type": "execute_result"
    }
   ],
   "source": [
    "df1['type_out'].value_counts()"
   ]
  },
  {
   "cell_type": "markdown",
   "metadata": {},
   "source": [
    "#### Extra Runs"
   ]
  },
  {
   "cell_type": "code",
   "execution_count": 37,
   "metadata": {},
   "outputs": [
    {
     "data": {
      "image/png": "[encoded data removed]",
      "text/plain": [
       "<Figure size 1080x576 with 1 Axes>"
      ]
     },
     "metadata": {},
     "output_type": "display_data"
    }
   ],
   "source": [
    "wides = df1['extras_wides'].sum()\n",
    "legbye = df1['extras_legbyes'].sum()\n",
    "noball = df1['extras_noballs'].sum()\n",
    "bye = df1['extras_byes'].sum()\n",
    "penalty = df1['extras_penalty'].sum()\n",
    "\n",
    "my_data = [wides, legbye, noball, bye, penalty]\n",
    "my_labels = ['Wides', 'Legbye', 'Noball', 'Bye', 'Penalty']\n",
    "plt.figure(figsize=(15, 8))\n",
    "plt.pie(my_data,labels=my_labels,autopct='%1.1f%%')\n",
    "plt.title('Extra runs conceeded')\n",
    "plt.legend(title = 'Extras')\n",
    "plt.show()"
   ]
  },
  {
   "cell_type": "markdown",
   "metadata": {},
   "source": [
    "#### Players out maximum times"
   ]
  },
  {
   "cell_type": "code",
   "execution_count": 38,
   "metadata": {},
   "outputs": [
    {
     "data": {
      "text/plain": [
       "0             167862\n",
       "SK Raina         157\n",
       "RG Sharma        152\n",
       "RV Uthappa       151\n",
       "V Kohli          142\n",
       "G Gambhir        136\n",
       "Name: player_out, dtype: int64"
      ]
     },
     "execution_count": 38,
     "metadata": {},
     "output_type": "execute_result"
    }
   ],
   "source": [
    "df1['player_out'].value_counts().head(6)"
   ]
  },
  {
   "cell_type": "code",
   "execution_count": null,
   "metadata": {},
   "outputs": [],
   "source": []
  }
 ],
 "metadata": {
  "kernelspec": {
   "display_name": "Python 3",
   "language": "python",
   "name": "python3"
  },
  "language_info": {
   "codemirror_mode": {
    "name": "ipython",
    "version": 3
   },
   "file_extension": ".py",
   "mimetype": "text/x-python",
   "name": "python",
   "nbconvert_exporter": "python",
   "pygments_lexer": "ipython3",
   "version": "3.8.5"
  }
 },
 "nbformat": 4,
 "nbformat_minor": 4
}
